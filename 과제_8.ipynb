{
  "cells": [
    {
      "cell_type": "code",
      "execution_count": null,
      "metadata": {
        "colab": {
          "base_uri": "https://localhost:8080/"
        },
        "id": "LtO0-qAAYRxb",
        "outputId": "7fab0020-2f61-4a08-e10c-2907bb97d0f4"
      },
      "outputs": [
        {
          "data": {
            "text/plain": [
              "[1, 2, 3, 4]"
            ]
          },
          "execution_count": 3,
          "metadata": {},
          "output_type": "execute_result"
        }
      ],
      "source": [
        "# 1\n",
        "a = [1,2,3]\n",
        "b = a\n",
        "a.append(4)\n",
        "b"
      ]
    },
    {
      "cell_type": "code",
      "execution_count": null,
      "metadata": {
        "colab": {
          "base_uri": "https://localhost:8080/"
        },
        "id": "C5YfOE4VZDuQ",
        "outputId": "196bba6a-7721-4cbd-fe83-ee683c07ef67"
      },
      "outputs": [
        {
          "name": "stdout",
          "output_type": "stream",
          "text": [
            "Gizmo id: 133131689840832\n"
          ]
        }
      ],
      "source": [
        "# 2\n",
        "class Gizmo:\n",
        "    def __init__(self):\n",
        "        print('Gizmo id: %d' % id(self))\n",
        "x = Gizmo()"
      ]
    },
    {
      "cell_type": "code",
      "execution_count": null,
      "metadata": {
        "colab": {
          "base_uri": "https://localhost:8080/",
          "height": 166
        },
        "id": "C2RUR8_SZKz3",
        "outputId": "ea4b02cb-4578-4a8d-fec0-ce53273a8e72"
      },
      "outputs": [
        {
          "name": "stdout",
          "output_type": "stream",
          "text": [
            "Gizmo id: 133131689842128\n"
          ]
        },
        {
          "ename": "TypeError",
          "evalue": "unsupported operand type(s) for *: 'Gizmo' and 'int'",
          "output_type": "error",
          "traceback": [
            "\u001b[0;31m---------------------------------------------------------------------------\u001b[0m",
            "\u001b[0;31mTypeError\u001b[0m                                 Traceback (most recent call last)",
            "\u001b[0;32m<ipython-input-6-2beac7b9470d>\u001b[0m in \u001b[0;36m<cell line: 1>\u001b[0;34m()\u001b[0m\n\u001b[0;32m----> 1\u001b[0;31m \u001b[0my\u001b[0m \u001b[0;34m=\u001b[0m \u001b[0mGizmo\u001b[0m\u001b[0;34m(\u001b[0m\u001b[0;34m)\u001b[0m \u001b[0;34m*\u001b[0m \u001b[0;36m10\u001b[0m\u001b[0;34m\u001b[0m\u001b[0;34m\u001b[0m\u001b[0m\n\u001b[0m",
            "\u001b[0;31mTypeError\u001b[0m: unsupported operand type(s) for *: 'Gizmo' and 'int'"
          ]
        }
      ],
      "source": [
        "y = Gizmo() * 10"
      ]
    },
    {
      "cell_type": "code",
      "execution_count": null,
      "metadata": {
        "colab": {
          "base_uri": "https://localhost:8080/"
        },
        "id": "gXM5Al9aZR_Y",
        "outputId": "a9a03290-b429-4be9-f0c7-7b57d4cfa575"
      },
      "outputs": [
        {
          "data": {
            "text/plain": [
              "['Gizmo',\n",
              " 'In',\n",
              " 'Out',\n",
              " '_',\n",
              " '_2',\n",
              " '_3',\n",
              " '__',\n",
              " '___',\n",
              " '__builtin__',\n",
              " '__builtins__',\n",
              " '__doc__',\n",
              " '__loader__',\n",
              " '__name__',\n",
              " '__package__',\n",
              " '__spec__',\n",
              " '_dh',\n",
              " '_i',\n",
              " '_i1',\n",
              " '_i2',\n",
              " '_i3',\n",
              " '_i4',\n",
              " '_i5',\n",
              " '_i6',\n",
              " '_i7',\n",
              " '_ih',\n",
              " '_ii',\n",
              " '_iii',\n",
              " '_oh',\n",
              " 'a',\n",
              " 'b',\n",
              " 'exit',\n",
              " 'get_ipython',\n",
              " 'quit',\n",
              " 'x']"
            ]
          },
          "execution_count": 7,
          "metadata": {},
          "output_type": "execute_result"
        }
      ],
      "source": [
        "dir()"
      ]
    },
    {
      "cell_type": "code",
      "execution_count": null,
      "metadata": {
        "id": "7pfrO3o6ZaJg"
      },
      "outputs": [],
      "source": [
        " # 3\n",
        " charles = {'name' : 'Charles L. Dodgson', 'born' : 1832}\n",
        " lewis = charles"
      ]
    },
    {
      "cell_type": "code",
      "execution_count": null,
      "metadata": {
        "colab": {
          "base_uri": "https://localhost:8080/"
        },
        "id": "XuxKn1bAZoe_",
        "outputId": "2b1fb8f6-3f1a-4d36-c75d-dd0b8e149db1"
      },
      "outputs": [
        {
          "data": {
            "text/plain": [
              "True"
            ]
          },
          "execution_count": 9,
          "metadata": {},
          "output_type": "execute_result"
        }
      ],
      "source": [
        "lewis is charles"
      ]
    },
    {
      "cell_type": "code",
      "execution_count": null,
      "metadata": {
        "colab": {
          "base_uri": "https://localhost:8080/"
        },
        "id": "3IkhNXykZqWg",
        "outputId": "0c2cd5dd-bf1d-4770-d692-634f42e0cdc8"
      },
      "outputs": [
        {
          "data": {
            "text/plain": [
              "(133131209334272, 133131209334272)"
            ]
          },
          "execution_count": 10,
          "metadata": {},
          "output_type": "execute_result"
        }
      ],
      "source": [
        "id(charles), id(lewis)"
      ]
    },
    {
      "cell_type": "code",
      "execution_count": null,
      "metadata": {
        "colab": {
          "base_uri": "https://localhost:8080/"
        },
        "id": "JMVNfj1xZs4A",
        "outputId": "ae9016d2-273b-4b6a-ca4d-dbd00b462188"
      },
      "outputs": [
        {
          "data": {
            "text/plain": [
              "{'name': 'Charles L. Dodgson', 'born': 1832, 'balance': 950}"
            ]
          },
          "execution_count": 11,
          "metadata": {},
          "output_type": "execute_result"
        }
      ],
      "source": [
        "lewis['balance'] = 950\n",
        "charles"
      ]
    },
    {
      "cell_type": "code",
      "execution_count": null,
      "metadata": {
        "colab": {
          "base_uri": "https://localhost:8080/"
        },
        "id": "FU5Z9GuUZxjI",
        "outputId": "3234e8c7-473d-448a-b541-f4ef839ee7c9"
      },
      "outputs": [
        {
          "data": {
            "text/plain": [
              "True"
            ]
          },
          "execution_count": 13,
          "metadata": {},
          "output_type": "execute_result"
        }
      ],
      "source": [
        "alex = {'name' : 'Charles L. Dodgson', 'born' : 1832, 'balance' : 950}\n",
        "alex == charles"
      ]
    },
    {
      "cell_type": "code",
      "execution_count": null,
      "metadata": {
        "colab": {
          "base_uri": "https://localhost:8080/"
        },
        "id": "M--HXAc_Z4a4",
        "outputId": "44ec1752-8041-4ab2-cdfb-5281fac8b4d6"
      },
      "outputs": [
        {
          "data": {
            "text/plain": [
              "False"
            ]
          },
          "execution_count": 14,
          "metadata": {},
          "output_type": "execute_result"
        }
      ],
      "source": [
        "alex is charles"
      ]
    },
    {
      "cell_type": "code",
      "execution_count": null,
      "metadata": {
        "colab": {
          "base_uri": "https://localhost:8080/"
        },
        "id": "gp09lkQEZ6xY",
        "outputId": "7412ef16-d104-4da2-94ca-eccc982064b3"
      },
      "outputs": [
        {
          "data": {
            "text/plain": [
              "(True, False)"
            ]
          },
          "execution_count": 22,
          "metadata": {},
          "output_type": "execute_result"
        }
      ],
      "source": [
        "# 5\n",
        "t1 = (1,2,[30,40])\n",
        "t2 = (1,2,[30,40])\n",
        "t1 == t2, t1 is t2"
      ]
    },
    {
      "cell_type": "code",
      "execution_count": null,
      "metadata": {
        "colab": {
          "base_uri": "https://localhost:8080/"
        },
        "id": "DcZgJDp1aE4w",
        "outputId": "ba40e074-5d3a-4398-af15-4af817bd1a09"
      },
      "outputs": [
        {
          "data": {
            "text/plain": [
              "133130789262336"
            ]
          },
          "execution_count": 23,
          "metadata": {},
          "output_type": "execute_result"
        }
      ],
      "source": [
        "id(t1[-1])"
      ]
    },
    {
      "cell_type": "code",
      "execution_count": null,
      "metadata": {
        "colab": {
          "base_uri": "https://localhost:8080/"
        },
        "id": "MTSFQe8vaJIY",
        "outputId": "a78be144-7197-4ccd-ba39-40119fcaa743"
      },
      "outputs": [
        {
          "data": {
            "text/plain": [
              "((1, 2, [30, 40, 99]), 133130789262336)"
            ]
          },
          "execution_count": 24,
          "metadata": {},
          "output_type": "execute_result"
        }
      ],
      "source": [
        "t1[-1].append(99)\n",
        "t1, id(t1[-1])"
      ]
    },
    {
      "cell_type": "code",
      "execution_count": null,
      "metadata": {
        "colab": {
          "base_uri": "https://localhost:8080/"
        },
        "id": "MLpoGmLsaOYQ",
        "outputId": "af238ead-62e8-4cf9-f295-cec714158f14"
      },
      "outputs": [
        {
          "data": {
            "text/plain": [
              "False"
            ]
          },
          "execution_count": 25,
          "metadata": {},
          "output_type": "execute_result"
        }
      ],
      "source": [
        "t1 == t2"
      ]
    },
    {
      "cell_type": "code",
      "execution_count": null,
      "metadata": {
        "id": "VOfUArtOaTcP"
      },
      "outputs": [],
      "source": [
        "# 6\n",
        "l1 = [3, [66,55,44], (7,8,9)]\n",
        "l2 = list(l1)"
      ]
    },
    {
      "cell_type": "code",
      "execution_count": null,
      "metadata": {
        "id": "HMs17sxKacOY"
      },
      "outputs": [],
      "source": [
        "l1.append(100)"
      ]
    },
    {
      "cell_type": "code",
      "execution_count": null,
      "metadata": {
        "colab": {
          "base_uri": "https://localhost:8080/"
        },
        "id": "6S3SlKHWahVI",
        "outputId": "7f4dfe27-3f47-446e-b2f4-1b177342a3d7"
      },
      "outputs": [
        {
          "name": "stdout",
          "output_type": "stream",
          "text": [
            "l1: [3, [66, 44], (7, 8, 9), 100]\n",
            "l2: [3, [66, 44], (7, 8, 9)]\n"
          ]
        }
      ],
      "source": [
        "l1[1].remove(55)\n",
        "print('l1:', l1)\n",
        "print('l2:', l2)"
      ]
    },
    {
      "cell_type": "code",
      "execution_count": null,
      "metadata": {
        "id": "fhSzBiwXap_5"
      },
      "outputs": [],
      "source": [
        "l2[1] += [33,22]"
      ]
    },
    {
      "cell_type": "code",
      "execution_count": null,
      "metadata": {
        "colab": {
          "base_uri": "https://localhost:8080/"
        },
        "id": "GkkWGelbaufQ",
        "outputId": "3a450f6c-120f-43e0-f000-a0c9bbde9ab0"
      },
      "outputs": [
        {
          "name": "stdout",
          "output_type": "stream",
          "text": [
            "l1:, l1\n",
            "l2: [3, [66, 44, 33, 22], (7, 8, 9, 10, 11)]\n"
          ]
        }
      ],
      "source": [
        "l2[2] += (10,11)\n",
        "\n",
        "print('l1:, l1')\n",
        "print('l2:', l2)"
      ]
    },
    {
      "cell_type": "code",
      "execution_count": null,
      "metadata": {
        "id": "rfb9C_VWa3Yg"
      },
      "outputs": [],
      "source": [
        "# 7\n",
        "class Bus:\n",
        "  def __init__(self, passengers = []):\n",
        "    self.passengers = passengers\n",
        "  def pick(self, name):\n",
        "    self.passengers.append(name)\n",
        "  def drop(self, name):\n",
        "    self.passengers.remove(name)"
      ]
    },
    {
      "cell_type": "code",
      "execution_count": null,
      "metadata": {
        "colab": {
          "base_uri": "https://localhost:8080/"
        },
        "id": "t_28X28_a84o",
        "outputId": "df7ae9da-3270-4581-8ee1-74b4234c4907"
      },
      "outputs": [
        {
          "data": {
            "text/plain": [
              "(133130795611088, 133130795603168, 133130795599952)"
            ]
          },
          "execution_count": 40,
          "metadata": {},
          "output_type": "execute_result"
        }
      ],
      "source": [
        "# 8\n",
        "import copy\n",
        "bus1 = Bus(['Alice', 'Bill', 'Claire', 'David'])\n",
        "bus2 = copy.copy(bus1)\n",
        "bus3 = copy.deepcopy(bus1)\n",
        "id(bus1), id(bus2), id(bus3)"
      ]
    },
    {
      "cell_type": "code",
      "execution_count": null,
      "metadata": {
        "colab": {
          "base_uri": "https://localhost:8080/"
        },
        "id": "gNWVhkhbbCa4",
        "outputId": "db5792b3-5ac1-4bcf-d913-38de0d25cbac"
      },
      "outputs": [
        {
          "data": {
            "text/plain": [
              "(['Alice', 'Claire', 'David'],\n",
              " ['Alice', 'Claire', 'David'],\n",
              " ['Alice', 'Bill', 'Claire', 'David'])"
            ]
          },
          "execution_count": 41,
          "metadata": {},
          "output_type": "execute_result"
        }
      ],
      "source": [
        "bus1.drop('Bill')\n",
        "bus1.passengers, bus2.passengers, bus3.passengers"
      ]
    },
    {
      "cell_type": "code",
      "execution_count": null,
      "metadata": {
        "colab": {
          "base_uri": "https://localhost:8080/"
        },
        "id": "6llO7hw7bICI",
        "outputId": "3522308f-4d9a-4856-ff38-52c0c5e8bdff"
      },
      "outputs": [
        {
          "data": {
            "text/plain": [
              "(133130789561344, 133130789561344, 133130789488320)"
            ]
          },
          "execution_count": 42,
          "metadata": {},
          "output_type": "execute_result"
        }
      ],
      "source": [
        "id(bus1.passengers), id(bus2.passengers), id(bus3.passengers)"
      ]
    },
    {
      "cell_type": "code",
      "execution_count": null,
      "metadata": {
        "colab": {
          "base_uri": "https://localhost:8080/"
        },
        "id": "LbZsYiPkbRVg",
        "outputId": "cf7eb6f1-56e6-40fb-858c-ab15d6301e80"
      },
      "outputs": [
        {
          "data": {
            "text/plain": [
              "[10, 20, [[...], 30]]"
            ]
          },
          "execution_count": 44,
          "metadata": {},
          "output_type": "execute_result"
        }
      ],
      "source": [
        "# 9\n",
        "a = [10,20]\n",
        "b = [a,30]\n",
        "a.append(b)\n",
        "a"
      ]
    },
    {
      "cell_type": "code",
      "execution_count": null,
      "metadata": {
        "colab": {
          "base_uri": "https://localhost:8080/"
        },
        "id": "cOOSYwErbSTA",
        "outputId": "6a395eb2-76c6-4070-8a9b-77ca68ab521f"
      },
      "outputs": [
        {
          "data": {
            "text/plain": [
              "[10, 20, [[...], 30]]"
            ]
          },
          "execution_count": 45,
          "metadata": {},
          "output_type": "execute_result"
        }
      ],
      "source": [
        "c = copy.deepcopy(a)\n",
        "c"
      ]
    },
    {
      "cell_type": "code",
      "execution_count": null,
      "metadata": {
        "id": "aHJG8JikbYAI"
      },
      "outputs": [],
      "source": [
        "# 10\n",
        "def f(a,b):\n",
        "  a += b\n",
        "  return a"
      ]
    },
    {
      "cell_type": "code",
      "execution_count": null,
      "metadata": {
        "colab": {
          "base_uri": "https://localhost:8080/"
        },
        "id": "qU1R64j4bbOn",
        "outputId": "7419e444-ce72-4417-8986-afa66f719bc9"
      },
      "outputs": [
        {
          "data": {
            "text/plain": [
              "([1, 2, 3, 4], ([1, 2, 3, 4], [3, 4]))"
            ]
          },
          "execution_count": 47,
          "metadata": {},
          "output_type": "execute_result"
        }
      ],
      "source": [
        "a = [1,2]\n",
        "b = [3,4]\n",
        "f(a,b), (a,b)"
      ]
    },
    {
      "cell_type": "code",
      "execution_count": null,
      "metadata": {
        "colab": {
          "base_uri": "https://localhost:8080/"
        },
        "id": "hhE23IqRbg9o",
        "outputId": "1fb220f5-dde3-46b4-8241-d18f331c127b"
      },
      "outputs": [
        {
          "data": {
            "text/plain": [
              "(3, (1, 2))"
            ]
          },
          "execution_count": 48,
          "metadata": {},
          "output_type": "execute_result"
        }
      ],
      "source": [
        "x = 1\n",
        "y = 2\n",
        "f(x,y), (x,y)"
      ]
    },
    {
      "cell_type": "code",
      "execution_count": null,
      "metadata": {
        "colab": {
          "base_uri": "https://localhost:8080/"
        },
        "id": "h-TNlc9KbkOw",
        "outputId": "fa9b343b-707f-472a-b1d7-14d004f672e4"
      },
      "outputs": [
        {
          "data": {
            "text/plain": [
              "((10, 20, 30, 40), ((10, 20), (30, 40)))"
            ]
          },
          "execution_count": 49,
          "metadata": {},
          "output_type": "execute_result"
        }
      ],
      "source": [
        "t = (10,20)\n",
        "u = (30,40)\n",
        "f(t,u), (t,u)"
      ]
    },
    {
      "cell_type": "code",
      "execution_count": null,
      "metadata": {
        "id": "6WrNScgTbmn4"
      },
      "outputs": [],
      "source": [
        "# 11\n",
        "class HauntedBus:\n",
        "  def __init__(self, passengers = []):\n",
        "    self.passengers = passengers\n",
        "  def pick(self, name):\n",
        "    self.passengers.append(name)\n",
        "  def drop(self, name):\n",
        "    self.passengers.remove(name)"
      ]
    },
    {
      "cell_type": "code",
      "execution_count": null,
      "metadata": {
        "colab": {
          "base_uri": "https://localhost:8080/"
        },
        "id": "bLbIfUG3br1Q",
        "outputId": "e5796568-94ae-4f35-84d3-72fdfd62295b"
      },
      "outputs": [
        {
          "data": {
            "text/plain": [
              "['Alice', 'Bill']"
            ]
          },
          "execution_count": 51,
          "metadata": {},
          "output_type": "execute_result"
        }
      ],
      "source": [
        "# 12\n",
        "bus1 = HauntedBus(['Alice', 'Bill'])\n",
        "bus1.passengers"
      ]
    },
    {
      "cell_type": "code",
      "execution_count": null,
      "metadata": {
        "colab": {
          "base_uri": "https://localhost:8080/"
        },
        "id": "6gvPCDxgbudQ",
        "outputId": "c9c603f7-3ea3-49ff-b01f-5b1ec1caeab7"
      },
      "outputs": [
        {
          "data": {
            "text/plain": [
              "['Bill', 'Charlie']"
            ]
          },
          "execution_count": 52,
          "metadata": {},
          "output_type": "execute_result"
        }
      ],
      "source": [
        "bus1.pick('Charlie')\n",
        "bus1.drop('Alice')\n",
        "bus1.passengers"
      ]
    },
    {
      "cell_type": "code",
      "execution_count": null,
      "metadata": {
        "colab": {
          "base_uri": "https://localhost:8080/"
        },
        "id": "yMOD9sK1bwyY",
        "outputId": "1efa9d3c-0d46-4614-e48e-75105d63935f"
      },
      "outputs": [
        {
          "data": {
            "text/plain": [
              "['Carrie']"
            ]
          },
          "execution_count": 53,
          "metadata": {},
          "output_type": "execute_result"
        }
      ],
      "source": [
        "bus2 = HauntedBus()\n",
        "bus2.pick('Carrie')\n",
        "bus2.passengers"
      ]
    },
    {
      "cell_type": "code",
      "execution_count": null,
      "metadata": {
        "colab": {
          "base_uri": "https://localhost:8080/"
        },
        "id": "ktma3-j6bzlQ",
        "outputId": "e1a36268-3e63-44c5-8984-f677ea0c0e19"
      },
      "outputs": [
        {
          "data": {
            "text/plain": [
              "['Carrie']"
            ]
          },
          "execution_count": 54,
          "metadata": {},
          "output_type": "execute_result"
        }
      ],
      "source": [
        "bus3 = HauntedBus()\n",
        "bus3.passengers"
      ]
    },
    {
      "cell_type": "code",
      "execution_count": null,
      "metadata": {
        "colab": {
          "base_uri": "https://localhost:8080/"
        },
        "id": "0UmqLOAJb1gg",
        "outputId": "a7472aa6-dd74-4c8a-be40-dd9297a6756e"
      },
      "outputs": [
        {
          "data": {
            "text/plain": [
              "['Carrie', 'Dave']"
            ]
          },
          "execution_count": 55,
          "metadata": {},
          "output_type": "execute_result"
        }
      ],
      "source": [
        "bus3.pick('Dave')\n",
        "bus2.passengers"
      ]
    },
    {
      "cell_type": "code",
      "execution_count": null,
      "metadata": {
        "colab": {
          "base_uri": "https://localhost:8080/"
        },
        "id": "3CaBhCm3b24w",
        "outputId": "488b8fbe-7c9b-434b-8fda-82e0b91f0901"
      },
      "outputs": [
        {
          "data": {
            "text/plain": [
              "True"
            ]
          },
          "execution_count": 56,
          "metadata": {},
          "output_type": "execute_result"
        }
      ],
      "source": [
        "bus2.passengers is bus3.passengers"
      ]
    },
    {
      "cell_type": "code",
      "execution_count": null,
      "metadata": {
        "colab": {
          "base_uri": "https://localhost:8080/"
        },
        "id": "FxMUfaYdb4WQ",
        "outputId": "840733f4-1092-4772-ac0e-9dec48d13f03"
      },
      "outputs": [
        {
          "data": {
            "text/plain": [
              "['Bill', 'Charlie']"
            ]
          },
          "execution_count": 57,
          "metadata": {},
          "output_type": "execute_result"
        }
      ],
      "source": [
        "bus1.passengers"
      ]
    },
    {
      "cell_type": "code",
      "execution_count": null,
      "metadata": {
        "colab": {
          "base_uri": "https://localhost:8080/"
        },
        "id": "_xZ_a9Osb5iI",
        "outputId": "27a6b08f-987a-430f-ffb5-7b3f9b79e559"
      },
      "outputs": [
        {
          "data": {
            "text/plain": [
              "(['Carrie', 'Dave'],)"
            ]
          },
          "execution_count": 58,
          "metadata": {},
          "output_type": "execute_result"
        }
      ],
      "source": [
        "HauntedBus.__init__.__defaults__"
      ]
    },
    {
      "cell_type": "code",
      "execution_count": null,
      "metadata": {
        "colab": {
          "base_uri": "https://localhost:8080/"
        },
        "id": "vMNfeJFeb78o",
        "outputId": "17cbcbc6-058a-440a-d40e-9a435315e86f"
      },
      "outputs": [
        {
          "data": {
            "text/plain": [
              "True"
            ]
          },
          "execution_count": 59,
          "metadata": {},
          "output_type": "execute_result"
        }
      ],
      "source": [
        "HauntedBus.__init__.__defaults__[0] is bus2.passengers"
      ]
    },
    {
      "cell_type": "code",
      "execution_count": null,
      "metadata": {
        "id": "0Wlo3K8cb9ro"
      },
      "outputs": [],
      "source": [
        "# 13\n",
        "class TwilightBus:\n",
        "  def __init__(self, passengers = None):\n",
        "    if passengers is None:\n",
        "      self.passengers = []\n",
        "    else:\n",
        "      self.passengers = passengers\n",
        "  def pick(self, name):\n",
        "    self.passengers.append(name)\n",
        "  def drop(self, name):\n",
        "    self.passengers.remove(name)"
      ]
    },
    {
      "cell_type": "code",
      "execution_count": null,
      "metadata": {
        "colab": {
          "base_uri": "https://localhost:8080/"
        },
        "id": "HoVsa25icApw",
        "outputId": "cd7bd2ec-0ddc-4f33-cfe4-f4bfdf744d66"
      },
      "outputs": [
        {
          "data": {
            "text/plain": [
              "['Sue', 'Maya', 'Diana']"
            ]
          },
          "execution_count": 61,
          "metadata": {},
          "output_type": "execute_result"
        }
      ],
      "source": [
        "# 14\n",
        "basketball_team = ['Sue', 'Tina', 'Maya', 'Diana', 'Pat']\n",
        "bus = TwilightBus(basketball_team)\n",
        "bus.drop('Tina')\n",
        "bus.drop('Pat')\n",
        "basketball_team"
      ]
    },
    {
      "cell_type": "code",
      "execution_count": null,
      "metadata": {
        "id": "08dvo136cDQY"
      },
      "outputs": [],
      "source": [
        "# 15\n",
        "class TwilightBus:\n",
        "  def __init__(self, passengers = None):\n",
        "    if passengers is None:\n",
        "      self.passengers = []\n",
        "    else:\n",
        "      self.passengers = list(passengers)\n",
        "  def pick(self, name):\n",
        "    self.passengers.append(name)\n",
        "  def drop(self, name):\n",
        "    self.passengers.remove(name)"
      ]
    },
    {
      "cell_type": "code",
      "execution_count": null,
      "metadata": {
        "colab": {
          "base_uri": "https://localhost:8080/"
        },
        "id": "-OuXTm5gcIxo",
        "outputId": "957fcd58-53ee-4fa7-a352-99743e7db85d"
      },
      "outputs": [
        {
          "data": {
            "text/plain": [
              "['Sue', 'Tina', 'Maya', 'Diana', 'Pat']"
            ]
          },
          "execution_count": 63,
          "metadata": {},
          "output_type": "execute_result"
        }
      ],
      "source": [
        "# 16\n",
        "basketball_team = ['Sue', 'Tina', 'Maya', 'Diana', 'Pat']\n",
        "bus = TwilightBus(basketball_team)\n",
        "bus.drop('Tina')\n",
        "bus.drop('Pat')\n",
        "basketball_team"
      ]
    },
    {
      "cell_type": "code",
      "execution_count": 1,
      "metadata": {
        "colab": {
          "base_uri": "https://localhost:8080/"
        },
        "id": "42pEwMmGcLjA",
        "outputId": "653c9aa9-94c3-4eb3-c5c3-f6a6f341ad9c"
      },
      "outputs": [
        {
          "output_type": "execute_result",
          "data": {
            "text/plain": [
              "True"
            ]
          },
          "metadata": {},
          "execution_count": 1
        }
      ],
      "source": [
        "# 17\n",
        "import weakref\n",
        "s1 = {1,2,3}\n",
        "s2 = s1\n",
        "def bye():\n",
        "  print('Gone with the wind...')\n",
        "ender = weakref.finalize(s1, bye)\n",
        "ender.alive"
      ]
    },
    {
      "cell_type": "code",
      "execution_count": null,
      "metadata": {
        "colab": {
          "base_uri": "https://localhost:8080/"
        },
        "id": "WiLRQCCgcZyw",
        "outputId": "7df6cd72-61e4-4a06-a81e-c26f63f37b2d"
      },
      "outputs": [
        {
          "data": {
            "text/plain": [
              "True"
            ]
          },
          "execution_count": 4,
          "metadata": {},
          "output_type": "execute_result"
        }
      ],
      "source": [
        "del s1\n",
        "ender.alive"
      ]
    },
    {
      "cell_type": "code",
      "execution_count": null,
      "metadata": {
        "id": "AVhGp3W2ca-I",
        "outputId": "c4fe611b-83cb-45e5-e159-4f60a4a3f738"
      },
      "outputs": [
        {
          "name": "stdout",
          "output_type": "stream",
          "text": [
            "Gone with the wind...\n"
          ]
        }
      ],
      "source": [
        "s2 = 'spam'"
      ]
    },
    {
      "cell_type": "code",
      "execution_count": null,
      "metadata": {
        "colab": {
          "base_uri": "https://localhost:8080/"
        },
        "id": "nQkGXU9Zccnw",
        "outputId": "e0ea0dcf-52fe-44a2-d00d-c15f41339060"
      },
      "outputs": [
        {
          "data": {
            "text/plain": [
              "False"
            ]
          },
          "execution_count": 6,
          "metadata": {},
          "output_type": "execute_result"
        }
      ],
      "source": [
        "ender.alive"
      ]
    }
  ],
  "metadata": {
    "colab": {
      "provenance": []
    },
    "kernelspec": {
      "display_name": "Python 3",
      "name": "python3"
    },
    "language_info": {
      "codemirror_mode": {
        "name": "ipython",
        "version": 3
      },
      "file_extension": ".py",
      "mimetype": "text/x-python",
      "name": "python",
      "nbconvert_exporter": "python",
      "pygments_lexer": "ipython3",
      "version": "3.12.2"
    }
  },
  "nbformat": 4,
  "nbformat_minor": 0
}